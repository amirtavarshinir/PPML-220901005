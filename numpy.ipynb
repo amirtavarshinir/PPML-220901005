{
  "nbformat": 4,
  "nbformat_minor": 0,
  "metadata": {
    "colab": {
      "provenance": []
    },
    "kernelspec": {
      "name": "python3",
      "display_name": "Python 3"
    },
    "language_info": {
      "name": "python"
    }
  },
  "cells": [
    {
      "cell_type": "code",
      "execution_count": null,
      "metadata": {
        "colab": {
          "base_uri": "https://localhost:8080/"
        },
        "id": "Norcy4OFq7tN",
        "outputId": "0bb3b88a-79e7-43f4-af62-c5944d78da31"
      },
      "outputs": [
        {
          "output_type": "stream",
          "name": "stdout",
          "text": [
            "[[1 2 3]\n",
            " [4 5 6]]\n"
          ]
        }
      ],
      "source": [
        "import numpy as np\n",
        "arr=np.array([(1,2,3),(4,5,6)])\n",
        "print(arr)"
      ]
    },
    {
      "cell_type": "code",
      "source": [
        "a=np.full((3,3),7)\n",
        "print(a)"
      ],
      "metadata": {
        "colab": {
          "base_uri": "https://localhost:8080/"
        },
        "id": "YAXcooOHr80X",
        "outputId": "4155c7a1-5a1c-42f3-8681-ad3b7df16022"
      },
      "execution_count": null,
      "outputs": [
        {
          "output_type": "stream",
          "name": "stdout",
          "text": [
            "[[7 7 7]\n",
            " [7 7 7]\n",
            " [7 7 7]]\n"
          ]
        }
      ]
    },
    {
      "cell_type": "code",
      "source": [
        "b=np.arange(3,30,3)\n",
        "print(b)"
      ],
      "metadata": {
        "colab": {
          "base_uri": "https://localhost:8080/"
        },
        "id": "6mOj1-0osEvc",
        "outputId": "e5d79454-b276-49fa-be29-9a5b93dd1b04"
      },
      "execution_count": null,
      "outputs": [
        {
          "output_type": "stream",
          "name": "stdout",
          "text": [
            "[ 3  6  9 12 15 18 21 24 27]\n"
          ]
        }
      ]
    },
    {
      "cell_type": "code",
      "source": [
        "print(np.random.random((2,2)))"
      ],
      "metadata": {
        "colab": {
          "base_uri": "https://localhost:8080/"
        },
        "id": "fZkXOs2gsmAm",
        "outputId": "960a7d02-5515-49b0-cb65-c5e4ec48f67f"
      },
      "execution_count": null,
      "outputs": [
        {
          "output_type": "stream",
          "name": "stdout",
          "text": [
            "[[0.48376399 0.99229122]\n",
            " [0.32521742 0.34907817]]\n"
          ]
        }
      ]
    },
    {
      "cell_type": "code",
      "source": [
        "narr=arr.reshape(3,2)\n",
        "print(narr)"
      ],
      "metadata": {
        "colab": {
          "base_uri": "https://localhost:8080/"
        },
        "id": "mu24ekp6uWWl",
        "outputId": "782851b4-cb0a-486b-dad6-48881e6e946b"
      },
      "execution_count": null,
      "outputs": [
        {
          "output_type": "stream",
          "name": "stdout",
          "text": [
            "[[1 2]\n",
            " [3 4]\n",
            " [5 6]]\n"
          ]
        }
      ]
    },
    {
      "cell_type": "code",
      "source": [
        "z=np.zeros((3,4))\n",
        "print(z)"
      ],
      "metadata": {
        "colab": {
          "base_uri": "https://localhost:8080/"
        },
        "id": "UJEuHBXVvEez",
        "outputId": "6c8a51a6-11d9-42d7-cbb3-f745cdaabe6e"
      },
      "execution_count": null,
      "outputs": [
        {
          "output_type": "stream",
          "name": "stdout",
          "text": [
            "[[0. 0. 0. 0.]\n",
            " [0. 0. 0. 0.]\n",
            " [0. 0. 0. 0.]]\n"
          ]
        }
      ]
    },
    {
      "cell_type": "code",
      "source": [
        "fz=z.flatten()\n",
        "print(fz)"
      ],
      "metadata": {
        "colab": {
          "base_uri": "https://localhost:8080/"
        },
        "id": "P-PnvVczvRYw",
        "outputId": "51a97043-807e-443d-afcb-bbfa7365b10f"
      },
      "execution_count": null,
      "outputs": [
        {
          "output_type": "stream",
          "name": "stdout",
          "text": [
            "[0. 0. 0. 0. 0. 0. 0. 0. 0. 0. 0. 0.]\n"
          ]
        }
      ]
    },
    {
      "cell_type": "code",
      "source": [
        "print(a.ndim)"
      ],
      "metadata": {
        "colab": {
          "base_uri": "https://localhost:8080/"
        },
        "id": "0Ud8vH4Pvcut",
        "outputId": "5a3aa457-f6a8-4954-f4a9-1ffadc4c41cf"
      },
      "execution_count": null,
      "outputs": [
        {
          "output_type": "stream",
          "name": "stdout",
          "text": [
            "2\n"
          ]
        }
      ]
    },
    {
      "cell_type": "code",
      "source": [
        "print(a.shape)"
      ],
      "metadata": {
        "colab": {
          "base_uri": "https://localhost:8080/"
        },
        "id": "pOaDOA8ZvjWx",
        "outputId": "d0663860-962e-4b45-e757-4ec711b5731e"
      },
      "execution_count": null,
      "outputs": [
        {
          "output_type": "stream",
          "name": "stdout",
          "text": [
            "(3, 3)\n"
          ]
        }
      ]
    },
    {
      "cell_type": "code",
      "source": [
        "print(a.size)"
      ],
      "metadata": {
        "colab": {
          "base_uri": "https://localhost:8080/"
        },
        "id": "76l8CI9avkDz",
        "outputId": "6bb8b1b0-0066-4ac1-9245-dc7e3649787c"
      },
      "execution_count": null,
      "outputs": [
        {
          "output_type": "stream",
          "name": "stdout",
          "text": [
            "9\n"
          ]
        }
      ]
    },
    {
      "cell_type": "code",
      "source": [
        "print(a.dtype)"
      ],
      "metadata": {
        "colab": {
          "base_uri": "https://localhost:8080/"
        },
        "id": "mVouG5nuvj0-",
        "outputId": "f7318dde-aa2d-47e4-b845-a9bb96f7e64a"
      },
      "execution_count": null,
      "outputs": [
        {
          "output_type": "stream",
          "name": "stdout",
          "text": [
            "int64\n"
          ]
        }
      ]
    },
    {
      "cell_type": "code",
      "source": [
        "a1=a.astype(\"f\")\n",
        "print(a1)"
      ],
      "metadata": {
        "colab": {
          "base_uri": "https://localhost:8080/"
        },
        "id": "_jAU-0Ppv3-D",
        "outputId": "6d01740b-d6d2-4e99-f716-b68ee4efc368"
      },
      "execution_count": null,
      "outputs": [
        {
          "output_type": "stream",
          "name": "stdout",
          "text": [
            "[[7. 7. 7.]\n",
            " [7. 7. 7.]\n",
            " [7. 7. 7.]]\n"
          ]
        }
      ]
    },
    {
      "cell_type": "code",
      "source": [
        "arr1=np.array([(1,3,5,6),(3,2,6,7),(9,8,4,7)])\n",
        "print(arr1)"
      ],
      "metadata": {
        "colab": {
          "base_uri": "https://localhost:8080/"
        },
        "id": "wS20Ju1jv31u",
        "outputId": "76d0250b-b9b0-47f5-ddfd-b937c53bdf1c"
      },
      "execution_count": null,
      "outputs": [
        {
          "output_type": "stream",
          "name": "stdout",
          "text": [
            "[[1 3 5 6]\n",
            " [3 2 6 7]\n",
            " [9 8 4 7]]\n"
          ]
        }
      ]
    },
    {
      "cell_type": "code",
      "source": [
        "print(arr1[0:3:2])"
      ],
      "metadata": {
        "colab": {
          "base_uri": "https://localhost:8080/"
        },
        "id": "0_snKpnsv3r4",
        "outputId": "9bc2d833-1058-4899-d084-05940220b4d9"
      },
      "execution_count": null,
      "outputs": [
        {
          "output_type": "stream",
          "name": "stdout",
          "text": [
            "[[1 3 5 6]\n",
            " [9 8 4 7]]\n"
          ]
        }
      ]
    },
    {
      "cell_type": "code",
      "source": [
        "print(arr1[0::2])"
      ],
      "metadata": {
        "colab": {
          "base_uri": "https://localhost:8080/"
        },
        "id": "CktCLf6dv3Zc",
        "outputId": "a754cbfb-fa14-41ae-d4a9-0196c2a2d138"
      },
      "execution_count": null,
      "outputs": [
        {
          "output_type": "stream",
          "name": "stdout",
          "text": [
            "[[1 3 5 6]\n",
            " [9 8 4 7]]\n"
          ]
        }
      ]
    },
    {
      "cell_type": "code",
      "source": [
        "print(arr1[::])"
      ],
      "metadata": {
        "colab": {
          "base_uri": "https://localhost:8080/"
        },
        "id": "EnZNheR-v3BQ",
        "outputId": "d9481982-cd3a-433d-d7a1-f69e74dd616e"
      },
      "execution_count": null,
      "outputs": [
        {
          "output_type": "stream",
          "name": "stdout",
          "text": [
            "[[1 3 5 6]\n",
            " [3 2 6 7]\n",
            " [9 8 4 7]]\n"
          ]
        }
      ]
    },
    {
      "cell_type": "code",
      "source": [
        "print(arr1[0,1:3])"
      ],
      "metadata": {
        "colab": {
          "base_uri": "https://localhost:8080/"
        },
        "id": "kpNHam7AxqO4",
        "outputId": "4bde7256-687d-455b-faa9-c300bbb3ef5d"
      },
      "execution_count": null,
      "outputs": [
        {
          "output_type": "stream",
          "name": "stdout",
          "text": [
            "[3 5]\n"
          ]
        }
      ]
    },
    {
      "cell_type": "code",
      "source": [
        "print(arr1[2:,2])"
      ],
      "metadata": {
        "colab": {
          "base_uri": "https://localhost:8080/"
        },
        "id": "v5qA6peKxqHS",
        "outputId": "7f4af6e2-89bc-4467-e101-01d97ed3b279"
      },
      "execution_count": null,
      "outputs": [
        {
          "output_type": "stream",
          "name": "stdout",
          "text": [
            "[4]\n"
          ]
        }
      ]
    },
    {
      "cell_type": "code",
      "source": [
        "print(arr1[:,2])"
      ],
      "metadata": {
        "colab": {
          "base_uri": "https://localhost:8080/"
        },
        "id": "-jQcMczYxp-F",
        "outputId": "9ec284bc-a0c9-4ee2-bc74-5bb1fef35c71"
      },
      "execution_count": null,
      "outputs": [
        {
          "output_type": "stream",
          "name": "stdout",
          "text": [
            "[5 6 4]\n"
          ]
        }
      ]
    },
    {
      "cell_type": "code",
      "source": [
        "print(np.where(arr1==4))"
      ],
      "metadata": {
        "colab": {
          "base_uri": "https://localhost:8080/"
        },
        "id": "vTLjUMzFxp0j",
        "outputId": "2e6c567c-5378-493d-d7c3-49d6ff1bd2c8"
      },
      "execution_count": null,
      "outputs": [
        {
          "output_type": "stream",
          "name": "stdout",
          "text": [
            "(array([2]), array([2]))\n"
          ]
        }
      ]
    },
    {
      "cell_type": "code",
      "source": [
        "print(np.where(arr1%2!=0))"
      ],
      "metadata": {
        "colab": {
          "base_uri": "https://localhost:8080/"
        },
        "id": "E1FZOdJ9xpqa",
        "outputId": "f10bf9d9-b241-4e25-f7b9-311ab4adb8ac"
      },
      "execution_count": null,
      "outputs": [
        {
          "output_type": "stream",
          "name": "stdout",
          "text": [
            "(array([0, 0, 0, 1, 1, 2, 2]), array([0, 1, 2, 0, 3, 0, 3]))\n"
          ]
        }
      ]
    },
    {
      "cell_type": "code",
      "source": [
        "print(np.where(arr1%2==0))"
      ],
      "metadata": {
        "colab": {
          "base_uri": "https://localhost:8080/"
        },
        "id": "t2J3Vyloyurm",
        "outputId": "06db3581-53d2-4c43-ef63-9edd10750805"
      },
      "execution_count": null,
      "outputs": [
        {
          "output_type": "stream",
          "name": "stdout",
          "text": [
            "(array([0, 1, 1, 2, 2]), array([3, 1, 2, 1, 2]))\n"
          ]
        }
      ]
    },
    {
      "cell_type": "code",
      "source": [
        "print(np.sort(arr1))"
      ],
      "metadata": {
        "colab": {
          "base_uri": "https://localhost:8080/"
        },
        "id": "vQN9Z-M7yuj0",
        "outputId": "259c7494-4822-43f3-baa0-efebe44dff05"
      },
      "execution_count": null,
      "outputs": [
        {
          "output_type": "stream",
          "name": "stdout",
          "text": [
            "[[1 3 5 6]\n",
            " [2 3 6 7]\n",
            " [4 7 8 9]]\n"
          ]
        }
      ]
    },
    {
      "cell_type": "code",
      "source": [
        "c=np.array([11,9,7,22])\n",
        "x=[True,False,True,False]\n",
        "nc=c>10\n",
        "newc=c[nc]\n",
        "print(c)\n",
        "print(x)\n",
        "print(nc)\n",
        "print(newc)"
      ],
      "metadata": {
        "colab": {
          "base_uri": "https://localhost:8080/"
        },
        "id": "kuX8d0oZyubu",
        "outputId": "c4ccae35-5467-4eee-e6cb-92299a59c258"
      },
      "execution_count": null,
      "outputs": [
        {
          "output_type": "stream",
          "name": "stdout",
          "text": [
            "[11  9  7 22]\n",
            "[True, False, True, False]\n",
            "[ True False False  True]\n",
            "[11 22]\n"
          ]
        }
      ]
    },
    {
      "cell_type": "code",
      "source": [
        "y=np.array([3,8,5,4])\n",
        "w=np.array([6,1,10,7])\n",
        "print(\"y+w=\",y+w)\n",
        "print(\"y-w=\",y-w)\n",
        "print(\"y/w=\",y/w)\n",
        "print(\"y.dot(w)\",y.dot(w))"
      ],
      "metadata": {
        "colab": {
          "base_uri": "https://localhost:8080/"
        },
        "id": "zvaTEjpAyuR5",
        "outputId": "e39e0ef7-43ab-40ed-858a-4f808c9a4f38"
      },
      "execution_count": null,
      "outputs": [
        {
          "output_type": "stream",
          "name": "stdout",
          "text": [
            "y+w= [ 9  9 15 11]\n",
            "y-w= [-3  7 -5 -3]\n",
            "y/w= [0.5        8.         0.5        0.57142857]\n",
            "y.dot(w) 104\n"
          ]
        }
      ]
    },
    {
      "cell_type": "code",
      "source": [
        "print(y*3)"
      ],
      "metadata": {
        "colab": {
          "base_uri": "https://localhost:8080/"
        },
        "id": "PiP9eA_qz9ie",
        "outputId": "35eecbc2-68ba-4459-bf72-8b33fd2dd20d"
      },
      "execution_count": null,
      "outputs": [
        {
          "output_type": "stream",
          "name": "stdout",
          "text": [
            "[ 9 24 15 12]\n"
          ]
        }
      ]
    },
    {
      "cell_type": "code",
      "source": [
        "a1=[1,2,3,4]\n",
        "a2=[5,6,7,8]\n",
        "def vectorize_my_func(s,t):\n",
        "  if(s>t):\n",
        "    return(s-t)\n",
        "  else:\n",
        "    return(s+t)\n",
        "vec_func=vectorize_my_func(a1,a2)\n",
        "print(vec_func)"
      ],
      "metadata": {
        "colab": {
          "base_uri": "https://localhost:8080/"
        },
        "id": "p1IzSNnTz9X0",
        "outputId": "4ca62a1f-df4a-45ef-f4bc-7dbf9907e583"
      },
      "execution_count": null,
      "outputs": [
        {
          "output_type": "stream",
          "name": "stdout",
          "text": [
            "[1, 2, 3, 4, 5, 6, 7, 8]\n"
          ]
        }
      ]
    },
    {
      "cell_type": "code",
      "source": [
        "x1=np.array([3,6,9,8])\n",
        "y1=np.array([4,1,7,5])\n",
        "print(np.concatenate((x1,y1)))"
      ],
      "metadata": {
        "colab": {
          "base_uri": "https://localhost:8080/"
        },
        "id": "2t2pE4whz9Hb",
        "outputId": "6b4c834d-f6e6-40d8-c846-4eef57a2cc58"
      },
      "execution_count": null,
      "outputs": [
        {
          "output_type": "stream",
          "name": "stdout",
          "text": [
            "[3 6 9 8 4 1 7 5]\n"
          ]
        }
      ]
    },
    {
      "cell_type": "code",
      "source": [
        "print(np.hstack((x1,y1)))"
      ],
      "metadata": {
        "colab": {
          "base_uri": "https://localhost:8080/"
        },
        "id": "rLC5z9KE3ldH",
        "outputId": "8580babb-e037-4726-eecb-bc9b68905f88"
      },
      "execution_count": null,
      "outputs": [
        {
          "output_type": "stream",
          "name": "stdout",
          "text": [
            "[3 6 9 8 4 1 7 5]\n"
          ]
        }
      ]
    },
    {
      "cell_type": "code",
      "source": [
        "print(np.vstack((x1,y1)))"
      ],
      "metadata": {
        "colab": {
          "base_uri": "https://localhost:8080/"
        },
        "id": "diBfpeZU3lLb",
        "outputId": "fdab5836-bdb1-41f8-e23d-2a6294d53371"
      },
      "execution_count": null,
      "outputs": [
        {
          "output_type": "stream",
          "name": "stdout",
          "text": [
            "[[3 6 9 8]\n",
            " [4 1 7 5]]\n"
          ]
        }
      ]
    },
    {
      "cell_type": "code",
      "source": [
        "print(np.dstack((x1,y1)))"
      ],
      "metadata": {
        "colab": {
          "base_uri": "https://localhost:8080/"
        },
        "id": "47ceodP93k_2",
        "outputId": "d2f083f8-2c19-4fdf-acd6-fe2ff9f6137f"
      },
      "execution_count": null,
      "outputs": [
        {
          "output_type": "stream",
          "name": "stdout",
          "text": [
            "[[[3 4]\n",
            "  [6 1]\n",
            "  [9 7]\n",
            "  [8 5]]]\n"
          ]
        }
      ]
    },
    {
      "cell_type": "code",
      "source": [
        "arr=np.concatenate((x1,y1))\n",
        "print(np.array_split(arr,4))"
      ],
      "metadata": {
        "colab": {
          "base_uri": "https://localhost:8080/"
        },
        "id": "pNiWIddC31R5",
        "outputId": "8f5a02eb-897c-4e15-be36-4317d794cb9f"
      },
      "execution_count": null,
      "outputs": [
        {
          "output_type": "stream",
          "name": "stdout",
          "text": [
            "[array([3, 6]), array([9, 8]), array([4, 1]), array([7, 5])]\n"
          ]
        }
      ]
    }
  ]
}